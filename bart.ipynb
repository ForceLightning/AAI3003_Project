{
 "cells": [
  {
   "cell_type": "code",
   "execution_count": 17,
   "metadata": {},
   "outputs": [],
   "source": [
    "import os\n",
    "import re\n",
    "\n",
    "import torch\n",
    "import numpy as np\n",
    "\n",
    "from transformers import pipeline\n",
    "from tqdm.auto import tqdm\n",
    "\n",
    "from dataset.textdataset import ArticleDataset"
   ]
  },
  {
   "cell_type": "code",
   "execution_count": 60,
   "metadata": {},
   "outputs": [
    {
     "data": {
      "application/vnd.jupyter.widget-view+json": {
       "model_id": "bda3c4ae405f40ee9efef3872798317d",
       "version_major": 2,
       "version_minor": 0
      },
      "text/plain": [
       "Category:   0%|          | 0/8 [00:00<?, ?it/s]"
      ]
     },
     "metadata": {},
     "output_type": "display_data"
    },
    {
     "data": {
      "application/vnd.jupyter.widget-view+json": {
       "model_id": "b06d657c790e46999770b4783f7ebb54",
       "version_major": 2,
       "version_minor": 0
      },
      "text/plain": [
       "File:   0%|          | 0/59 [00:00<?, ?it/s]"
      ]
     },
     "metadata": {},
     "output_type": "display_data"
    },
    {
     "data": {
      "application/vnd.jupyter.widget-view+json": {
       "model_id": "f2ccd9943c2b401a803e390177527477",
       "version_major": 2,
       "version_minor": 0
      },
      "text/plain": [
       "File:   0%|          | 0/58 [00:00<?, ?it/s]"
      ]
     },
     "metadata": {},
     "output_type": "display_data"
    },
    {
     "data": {
      "application/vnd.jupyter.widget-view+json": {
       "model_id": "3d16169876c54baba2997c5ef3fd088b",
       "version_major": 2,
       "version_minor": 0
      },
      "text/plain": [
       "File:   0%|          | 0/59 [00:00<?, ?it/s]"
      ]
     },
     "metadata": {},
     "output_type": "display_data"
    },
    {
     "data": {
      "application/vnd.jupyter.widget-view+json": {
       "model_id": "ad6ac4bccf6948b6b69e545b58db8ddc",
       "version_major": 2,
       "version_minor": 0
      },
      "text/plain": [
       "File:   0%|          | 0/58 [00:00<?, ?it/s]"
      ]
     },
     "metadata": {},
     "output_type": "display_data"
    },
    {
     "data": {
      "application/vnd.jupyter.widget-view+json": {
       "model_id": "f257c8da383f4933b29c26232fa2f3e4",
       "version_major": 2,
       "version_minor": 0
      },
      "text/plain": [
       "File:   0%|          | 0/51 [00:00<?, ?it/s]"
      ]
     },
     "metadata": {},
     "output_type": "display_data"
    },
    {
     "data": {
      "application/vnd.jupyter.widget-view+json": {
       "model_id": "3df9d98de6be48518c5b2c95747113e6",
       "version_major": 2,
       "version_minor": 0
      },
      "text/plain": [
       "File:   0%|          | 0/58 [00:00<?, ?it/s]"
      ]
     },
     "metadata": {},
     "output_type": "display_data"
    },
    {
     "data": {
      "application/vnd.jupyter.widget-view+json": {
       "model_id": "96b523c4ad764a069e57241221e703f7",
       "version_major": 2,
       "version_minor": 0
      },
      "text/plain": [
       "File:   0%|          | 0/58 [00:00<?, ?it/s]"
      ]
     },
     "metadata": {},
     "output_type": "display_data"
    },
    {
     "data": {
      "application/vnd.jupyter.widget-view+json": {
       "model_id": "798e0b35dbed4a88a649cf8662aae716",
       "version_major": 2,
       "version_minor": 0
      },
      "text/plain": [
       "File:   0%|          | 0/51 [00:00<?, ?it/s]"
      ]
     },
     "metadata": {},
     "output_type": "display_data"
    }
   ],
   "source": [
    "categories = os.listdir(path=\"./articles\")\n",
    "candidate_labels = [category.replace(\"-\", \" \") for category in categories]\n",
    "classifier = pipeline(\n",
    "    \"zero-shot-classification\",\n",
    "    model=\"facebook/bart-large-mnli\",\n",
    "    dtype=torch.bfloat16,\n",
    "    device=\"cuda\",\n",
    "    fp16=True\n",
    ")\n",
    "results = []\n",
    "\n",
    "mapping = {}\n",
    "\n",
    "for category in tqdm(categories, desc=\"Category\", leave=True, position=0):\n",
    "    files = os.listdir(f\"./articles/{category}\")\n",
    "    for file in tqdm(files, desc=\"File\", leave=False, position=1):\n",
    "        with open(f\"./articles/{category}/{file}\", \"r\", encoding=\"utf-8\") as f:\n",
    "            article = f.read()\n",
    "            text = article.lower()\n",
    "            text = re.sub(r\"[^\\w\\s]\", \"\", text)\n",
    "            if len(text) == 0:\n",
    "                continue\n",
    "        if file in mapping:\n",
    "            mapping[file][\"categories\"].append(category)\n",
    "        else:\n",
    "            mapping[file] = {\n",
    "                \"categories\": [category],\n",
    "                \"fp\": f\"./articles/{category}/{file}\"\n",
    "            }"
   ]
  },
  {
   "cell_type": "code",
   "execution_count": 61,
   "metadata": {},
   "outputs": [
    {
     "data": {
      "application/vnd.jupyter.widget-view+json": {
       "model_id": "a9fdb339aea044f394cc91c9b576db25",
       "version_major": 2,
       "version_minor": 0
      },
      "text/plain": [
       "Category:   0%|          | 0/57 [00:00<?, ?it/s]"
      ]
     },
     "metadata": {},
     "output_type": "display_data"
    },
    {
     "name": "stderr",
     "output_type": "stream",
     "text": [
      "c:\\Users\\chris\\.virtualenvs\\AAI3003_Project-iSI0Dnoj\\Lib\\site-packages\\transformers\\pipelines\\base.py:1157: UserWarning: You seem to be using the pipelines sequentially on GPU. In order to maximize efficiency please use a dataset\n",
      "  warnings.warn(\n"
     ]
    }
   ],
   "source": [
    "for file, properties in tqdm(mapping.items(), desc=\"Category\", leave=True, position=0):\n",
    "    with open(properties[\"fp\"], \"r\", encoding=\"utf-8\") as f:\n",
    "        article = f.read()\n",
    "        text = article.lower()\n",
    "        text = re.sub(r\"[^\\w\\s]\", \"\", text)\n",
    "        if len(text) == 0:\n",
    "            continue\n",
    "        result = classifier(text, candidate_labels=candidate_labels, multi_label=True)\n",
    "        results.append((file, properties[\"categories\"], result[\"labels\"], result[\"scores\"]))"
   ]
  },
  {
   "cell_type": "code",
   "execution_count": 78,
   "metadata": {},
   "outputs": [],
   "source": [
    "from sklearn.metrics import coverage_error, label_ranking_average_precision_score, label_ranking_loss\n",
    "from sklearn.preprocessing import MultiLabelBinarizer"
   ]
  },
  {
   "cell_type": "code",
   "execution_count": 62,
   "metadata": {},
   "outputs": [
    {
     "data": {
      "text/plain": [
       "('5_smart_ways_to_stretch_your_dollar_with_GrabFood.txt',\n",
       " ['adulting-101',\n",
       "  'big-read',\n",
       "  'commentary',\n",
       "  'gen-y-speaks',\n",
       "  'gen-z-speaks',\n",
       "  'singapore',\n",
       "  'voices',\n",
       "  'world'],\n",
       " ['commentary',\n",
       "  'big read',\n",
       "  'voices',\n",
       "  'singapore',\n",
       "  'world',\n",
       "  'gen z speaks',\n",
       "  'gen y speaks',\n",
       "  'adulting 101'],\n",
       " [0.997778058052063,\n",
       "  0.9974443316459656,\n",
       "  0.9972078204154968,\n",
       "  0.9966781735420227,\n",
       "  0.9966431856155396,\n",
       "  0.9958672523498535,\n",
       "  0.9957605600357056,\n",
       "  0.9948845505714417])"
      ]
     },
     "execution_count": 62,
     "metadata": {},
     "output_type": "execute_result"
    }
   ],
   "source": [
    "results[0]"
   ]
  },
  {
   "cell_type": "code",
   "execution_count": 63,
   "metadata": {},
   "outputs": [],
   "source": [
    "reverse_labels = {val: key for key, val in dict(zip(categories, candidate_labels)).items()}"
   ]
  },
  {
   "cell_type": "code",
   "execution_count": 64,
   "metadata": {},
   "outputs": [
    {
     "data": {
      "text/html": [
       "<style>#sk-container-id-2 {\n",
       "  /* Definition of color scheme common for light and dark mode */\n",
       "  --sklearn-color-text: black;\n",
       "  --sklearn-color-line: gray;\n",
       "  /* Definition of color scheme for unfitted estimators */\n",
       "  --sklearn-color-unfitted-level-0: #fff5e6;\n",
       "  --sklearn-color-unfitted-level-1: #f6e4d2;\n",
       "  --sklearn-color-unfitted-level-2: #ffe0b3;\n",
       "  --sklearn-color-unfitted-level-3: chocolate;\n",
       "  /* Definition of color scheme for fitted estimators */\n",
       "  --sklearn-color-fitted-level-0: #f0f8ff;\n",
       "  --sklearn-color-fitted-level-1: #d4ebff;\n",
       "  --sklearn-color-fitted-level-2: #b3dbfd;\n",
       "  --sklearn-color-fitted-level-3: cornflowerblue;\n",
       "\n",
       "  /* Specific color for light theme */\n",
       "  --sklearn-color-text-on-default-background: var(--sg-text-color, var(--theme-code-foreground, var(--jp-content-font-color1, black)));\n",
       "  --sklearn-color-background: var(--sg-background-color, var(--theme-background, var(--jp-layout-color0, white)));\n",
       "  --sklearn-color-border-box: var(--sg-text-color, var(--theme-code-foreground, var(--jp-content-font-color1, black)));\n",
       "  --sklearn-color-icon: #696969;\n",
       "\n",
       "  @media (prefers-color-scheme: dark) {\n",
       "    /* Redefinition of color scheme for dark theme */\n",
       "    --sklearn-color-text-on-default-background: var(--sg-text-color, var(--theme-code-foreground, var(--jp-content-font-color1, white)));\n",
       "    --sklearn-color-background: var(--sg-background-color, var(--theme-background, var(--jp-layout-color0, #111)));\n",
       "    --sklearn-color-border-box: var(--sg-text-color, var(--theme-code-foreground, var(--jp-content-font-color1, white)));\n",
       "    --sklearn-color-icon: #878787;\n",
       "  }\n",
       "}\n",
       "\n",
       "#sk-container-id-2 {\n",
       "  color: var(--sklearn-color-text);\n",
       "}\n",
       "\n",
       "#sk-container-id-2 pre {\n",
       "  padding: 0;\n",
       "}\n",
       "\n",
       "#sk-container-id-2 input.sk-hidden--visually {\n",
       "  border: 0;\n",
       "  clip: rect(1px 1px 1px 1px);\n",
       "  clip: rect(1px, 1px, 1px, 1px);\n",
       "  height: 1px;\n",
       "  margin: -1px;\n",
       "  overflow: hidden;\n",
       "  padding: 0;\n",
       "  position: absolute;\n",
       "  width: 1px;\n",
       "}\n",
       "\n",
       "#sk-container-id-2 div.sk-dashed-wrapped {\n",
       "  border: 1px dashed var(--sklearn-color-line);\n",
       "  margin: 0 0.4em 0.5em 0.4em;\n",
       "  box-sizing: border-box;\n",
       "  padding-bottom: 0.4em;\n",
       "  background-color: var(--sklearn-color-background);\n",
       "}\n",
       "\n",
       "#sk-container-id-2 div.sk-container {\n",
       "  /* jupyter's `normalize.less` sets `[hidden] { display: none; }`\n",
       "     but bootstrap.min.css set `[hidden] { display: none !important; }`\n",
       "     so we also need the `!important` here to be able to override the\n",
       "     default hidden behavior on the sphinx rendered scikit-learn.org.\n",
       "     See: https://github.com/scikit-learn/scikit-learn/issues/21755 */\n",
       "  display: inline-block !important;\n",
       "  position: relative;\n",
       "}\n",
       "\n",
       "#sk-container-id-2 div.sk-text-repr-fallback {\n",
       "  display: none;\n",
       "}\n",
       "\n",
       "div.sk-parallel-item,\n",
       "div.sk-serial,\n",
       "div.sk-item {\n",
       "  /* draw centered vertical line to link estimators */\n",
       "  background-image: linear-gradient(var(--sklearn-color-text-on-default-background), var(--sklearn-color-text-on-default-background));\n",
       "  background-size: 2px 100%;\n",
       "  background-repeat: no-repeat;\n",
       "  background-position: center center;\n",
       "}\n",
       "\n",
       "/* Parallel-specific style estimator block */\n",
       "\n",
       "#sk-container-id-2 div.sk-parallel-item::after {\n",
       "  content: \"\";\n",
       "  width: 100%;\n",
       "  border-bottom: 2px solid var(--sklearn-color-text-on-default-background);\n",
       "  flex-grow: 1;\n",
       "}\n",
       "\n",
       "#sk-container-id-2 div.sk-parallel {\n",
       "  display: flex;\n",
       "  align-items: stretch;\n",
       "  justify-content: center;\n",
       "  background-color: var(--sklearn-color-background);\n",
       "  position: relative;\n",
       "}\n",
       "\n",
       "#sk-container-id-2 div.sk-parallel-item {\n",
       "  display: flex;\n",
       "  flex-direction: column;\n",
       "}\n",
       "\n",
       "#sk-container-id-2 div.sk-parallel-item:first-child::after {\n",
       "  align-self: flex-end;\n",
       "  width: 50%;\n",
       "}\n",
       "\n",
       "#sk-container-id-2 div.sk-parallel-item:last-child::after {\n",
       "  align-self: flex-start;\n",
       "  width: 50%;\n",
       "}\n",
       "\n",
       "#sk-container-id-2 div.sk-parallel-item:only-child::after {\n",
       "  width: 0;\n",
       "}\n",
       "\n",
       "/* Serial-specific style estimator block */\n",
       "\n",
       "#sk-container-id-2 div.sk-serial {\n",
       "  display: flex;\n",
       "  flex-direction: column;\n",
       "  align-items: center;\n",
       "  background-color: var(--sklearn-color-background);\n",
       "  padding-right: 1em;\n",
       "  padding-left: 1em;\n",
       "}\n",
       "\n",
       "\n",
       "/* Toggleable style: style used for estimator/Pipeline/ColumnTransformer box that is\n",
       "clickable and can be expanded/collapsed.\n",
       "- Pipeline and ColumnTransformer use this feature and define the default style\n",
       "- Estimators will overwrite some part of the style using the `sk-estimator` class\n",
       "*/\n",
       "\n",
       "/* Pipeline and ColumnTransformer style (default) */\n",
       "\n",
       "#sk-container-id-2 div.sk-toggleable {\n",
       "  /* Default theme specific background. It is overwritten whether we have a\n",
       "  specific estimator or a Pipeline/ColumnTransformer */\n",
       "  background-color: var(--sklearn-color-background);\n",
       "}\n",
       "\n",
       "/* Toggleable label */\n",
       "#sk-container-id-2 label.sk-toggleable__label {\n",
       "  cursor: pointer;\n",
       "  display: block;\n",
       "  width: 100%;\n",
       "  margin-bottom: 0;\n",
       "  padding: 0.5em;\n",
       "  box-sizing: border-box;\n",
       "  text-align: center;\n",
       "}\n",
       "\n",
       "#sk-container-id-2 label.sk-toggleable__label-arrow:before {\n",
       "  /* Arrow on the left of the label */\n",
       "  content: \"▸\";\n",
       "  float: left;\n",
       "  margin-right: 0.25em;\n",
       "  color: var(--sklearn-color-icon);\n",
       "}\n",
       "\n",
       "#sk-container-id-2 label.sk-toggleable__label-arrow:hover:before {\n",
       "  color: var(--sklearn-color-text);\n",
       "}\n",
       "\n",
       "/* Toggleable content - dropdown */\n",
       "\n",
       "#sk-container-id-2 div.sk-toggleable__content {\n",
       "  max-height: 0;\n",
       "  max-width: 0;\n",
       "  overflow: hidden;\n",
       "  text-align: left;\n",
       "  /* unfitted */\n",
       "  background-color: var(--sklearn-color-unfitted-level-0);\n",
       "}\n",
       "\n",
       "#sk-container-id-2 div.sk-toggleable__content.fitted {\n",
       "  /* fitted */\n",
       "  background-color: var(--sklearn-color-fitted-level-0);\n",
       "}\n",
       "\n",
       "#sk-container-id-2 div.sk-toggleable__content pre {\n",
       "  margin: 0.2em;\n",
       "  border-radius: 0.25em;\n",
       "  color: var(--sklearn-color-text);\n",
       "  /* unfitted */\n",
       "  background-color: var(--sklearn-color-unfitted-level-0);\n",
       "}\n",
       "\n",
       "#sk-container-id-2 div.sk-toggleable__content.fitted pre {\n",
       "  /* unfitted */\n",
       "  background-color: var(--sklearn-color-fitted-level-0);\n",
       "}\n",
       "\n",
       "#sk-container-id-2 input.sk-toggleable__control:checked~div.sk-toggleable__content {\n",
       "  /* Expand drop-down */\n",
       "  max-height: 200px;\n",
       "  max-width: 100%;\n",
       "  overflow: auto;\n",
       "}\n",
       "\n",
       "#sk-container-id-2 input.sk-toggleable__control:checked~label.sk-toggleable__label-arrow:before {\n",
       "  content: \"▾\";\n",
       "}\n",
       "\n",
       "/* Pipeline/ColumnTransformer-specific style */\n",
       "\n",
       "#sk-container-id-2 div.sk-label input.sk-toggleable__control:checked~label.sk-toggleable__label {\n",
       "  color: var(--sklearn-color-text);\n",
       "  background-color: var(--sklearn-color-unfitted-level-2);\n",
       "}\n",
       "\n",
       "#sk-container-id-2 div.sk-label.fitted input.sk-toggleable__control:checked~label.sk-toggleable__label {\n",
       "  background-color: var(--sklearn-color-fitted-level-2);\n",
       "}\n",
       "\n",
       "/* Estimator-specific style */\n",
       "\n",
       "/* Colorize estimator box */\n",
       "#sk-container-id-2 div.sk-estimator input.sk-toggleable__control:checked~label.sk-toggleable__label {\n",
       "  /* unfitted */\n",
       "  background-color: var(--sklearn-color-unfitted-level-2);\n",
       "}\n",
       "\n",
       "#sk-container-id-2 div.sk-estimator.fitted input.sk-toggleable__control:checked~label.sk-toggleable__label {\n",
       "  /* fitted */\n",
       "  background-color: var(--sklearn-color-fitted-level-2);\n",
       "}\n",
       "\n",
       "#sk-container-id-2 div.sk-label label.sk-toggleable__label,\n",
       "#sk-container-id-2 div.sk-label label {\n",
       "  /* The background is the default theme color */\n",
       "  color: var(--sklearn-color-text-on-default-background);\n",
       "}\n",
       "\n",
       "/* On hover, darken the color of the background */\n",
       "#sk-container-id-2 div.sk-label:hover label.sk-toggleable__label {\n",
       "  color: var(--sklearn-color-text);\n",
       "  background-color: var(--sklearn-color-unfitted-level-2);\n",
       "}\n",
       "\n",
       "/* Label box, darken color on hover, fitted */\n",
       "#sk-container-id-2 div.sk-label.fitted:hover label.sk-toggleable__label.fitted {\n",
       "  color: var(--sklearn-color-text);\n",
       "  background-color: var(--sklearn-color-fitted-level-2);\n",
       "}\n",
       "\n",
       "/* Estimator label */\n",
       "\n",
       "#sk-container-id-2 div.sk-label label {\n",
       "  font-family: monospace;\n",
       "  font-weight: bold;\n",
       "  display: inline-block;\n",
       "  line-height: 1.2em;\n",
       "}\n",
       "\n",
       "#sk-container-id-2 div.sk-label-container {\n",
       "  text-align: center;\n",
       "}\n",
       "\n",
       "/* Estimator-specific */\n",
       "#sk-container-id-2 div.sk-estimator {\n",
       "  font-family: monospace;\n",
       "  border: 1px dotted var(--sklearn-color-border-box);\n",
       "  border-radius: 0.25em;\n",
       "  box-sizing: border-box;\n",
       "  margin-bottom: 0.5em;\n",
       "  /* unfitted */\n",
       "  background-color: var(--sklearn-color-unfitted-level-0);\n",
       "}\n",
       "\n",
       "#sk-container-id-2 div.sk-estimator.fitted {\n",
       "  /* fitted */\n",
       "  background-color: var(--sklearn-color-fitted-level-0);\n",
       "}\n",
       "\n",
       "/* on hover */\n",
       "#sk-container-id-2 div.sk-estimator:hover {\n",
       "  /* unfitted */\n",
       "  background-color: var(--sklearn-color-unfitted-level-2);\n",
       "}\n",
       "\n",
       "#sk-container-id-2 div.sk-estimator.fitted:hover {\n",
       "  /* fitted */\n",
       "  background-color: var(--sklearn-color-fitted-level-2);\n",
       "}\n",
       "\n",
       "/* Specification for estimator info (e.g. \"i\" and \"?\") */\n",
       "\n",
       "/* Common style for \"i\" and \"?\" */\n",
       "\n",
       ".sk-estimator-doc-link,\n",
       "a:link.sk-estimator-doc-link,\n",
       "a:visited.sk-estimator-doc-link {\n",
       "  float: right;\n",
       "  font-size: smaller;\n",
       "  line-height: 1em;\n",
       "  font-family: monospace;\n",
       "  background-color: var(--sklearn-color-background);\n",
       "  border-radius: 1em;\n",
       "  height: 1em;\n",
       "  width: 1em;\n",
       "  text-decoration: none !important;\n",
       "  margin-left: 1ex;\n",
       "  /* unfitted */\n",
       "  border: var(--sklearn-color-unfitted-level-1) 1pt solid;\n",
       "  color: var(--sklearn-color-unfitted-level-1);\n",
       "}\n",
       "\n",
       ".sk-estimator-doc-link.fitted,\n",
       "a:link.sk-estimator-doc-link.fitted,\n",
       "a:visited.sk-estimator-doc-link.fitted {\n",
       "  /* fitted */\n",
       "  border: var(--sklearn-color-fitted-level-1) 1pt solid;\n",
       "  color: var(--sklearn-color-fitted-level-1);\n",
       "}\n",
       "\n",
       "/* On hover */\n",
       "div.sk-estimator:hover .sk-estimator-doc-link:hover,\n",
       ".sk-estimator-doc-link:hover,\n",
       "div.sk-label-container:hover .sk-estimator-doc-link:hover,\n",
       ".sk-estimator-doc-link:hover {\n",
       "  /* unfitted */\n",
       "  background-color: var(--sklearn-color-unfitted-level-3);\n",
       "  color: var(--sklearn-color-background);\n",
       "  text-decoration: none;\n",
       "}\n",
       "\n",
       "div.sk-estimator.fitted:hover .sk-estimator-doc-link.fitted:hover,\n",
       ".sk-estimator-doc-link.fitted:hover,\n",
       "div.sk-label-container:hover .sk-estimator-doc-link.fitted:hover,\n",
       ".sk-estimator-doc-link.fitted:hover {\n",
       "  /* fitted */\n",
       "  background-color: var(--sklearn-color-fitted-level-3);\n",
       "  color: var(--sklearn-color-background);\n",
       "  text-decoration: none;\n",
       "}\n",
       "\n",
       "/* Span, style for the box shown on hovering the info icon */\n",
       ".sk-estimator-doc-link span {\n",
       "  display: none;\n",
       "  z-index: 9999;\n",
       "  position: relative;\n",
       "  font-weight: normal;\n",
       "  right: .2ex;\n",
       "  padding: .5ex;\n",
       "  margin: .5ex;\n",
       "  width: min-content;\n",
       "  min-width: 20ex;\n",
       "  max-width: 50ex;\n",
       "  color: var(--sklearn-color-text);\n",
       "  box-shadow: 2pt 2pt 4pt #999;\n",
       "  /* unfitted */\n",
       "  background: var(--sklearn-color-unfitted-level-0);\n",
       "  border: .5pt solid var(--sklearn-color-unfitted-level-3);\n",
       "}\n",
       "\n",
       ".sk-estimator-doc-link.fitted span {\n",
       "  /* fitted */\n",
       "  background: var(--sklearn-color-fitted-level-0);\n",
       "  border: var(--sklearn-color-fitted-level-3);\n",
       "}\n",
       "\n",
       ".sk-estimator-doc-link:hover span {\n",
       "  display: block;\n",
       "}\n",
       "\n",
       "/* \"?\"-specific style due to the `<a>` HTML tag */\n",
       "\n",
       "#sk-container-id-2 a.estimator_doc_link {\n",
       "  float: right;\n",
       "  font-size: 1rem;\n",
       "  line-height: 1em;\n",
       "  font-family: monospace;\n",
       "  background-color: var(--sklearn-color-background);\n",
       "  border-radius: 1rem;\n",
       "  height: 1rem;\n",
       "  width: 1rem;\n",
       "  text-decoration: none;\n",
       "  /* unfitted */\n",
       "  color: var(--sklearn-color-unfitted-level-1);\n",
       "  border: var(--sklearn-color-unfitted-level-1) 1pt solid;\n",
       "}\n",
       "\n",
       "#sk-container-id-2 a.estimator_doc_link.fitted {\n",
       "  /* fitted */\n",
       "  border: var(--sklearn-color-fitted-level-1) 1pt solid;\n",
       "  color: var(--sklearn-color-fitted-level-1);\n",
       "}\n",
       "\n",
       "/* On hover */\n",
       "#sk-container-id-2 a.estimator_doc_link:hover {\n",
       "  /* unfitted */\n",
       "  background-color: var(--sklearn-color-unfitted-level-3);\n",
       "  color: var(--sklearn-color-background);\n",
       "  text-decoration: none;\n",
       "}\n",
       "\n",
       "#sk-container-id-2 a.estimator_doc_link.fitted:hover {\n",
       "  /* fitted */\n",
       "  background-color: var(--sklearn-color-fitted-level-3);\n",
       "}\n",
       "</style><div id=\"sk-container-id-2\" class=\"sk-top-container\"><div class=\"sk-text-repr-fallback\"><pre>MultiLabelBinarizer()</pre><b>In a Jupyter environment, please rerun this cell to show the HTML representation or trust the notebook. <br />On GitHub, the HTML representation is unable to render, please try loading this page with nbviewer.org.</b></div><div class=\"sk-container\" hidden><div class=\"sk-item\"><div class=\"sk-estimator fitted sk-toggleable\"><input class=\"sk-toggleable__control sk-hidden--visually\" id=\"sk-estimator-id-2\" type=\"checkbox\" checked><label for=\"sk-estimator-id-2\" class=\"sk-toggleable__label fitted sk-toggleable__label-arrow fitted\">&nbsp;&nbsp;MultiLabelBinarizer<a class=\"sk-estimator-doc-link fitted\" rel=\"noreferrer\" target=\"_blank\" href=\"https://scikit-learn.org/1.4/modules/generated/sklearn.preprocessing.MultiLabelBinarizer.html\">?<span>Documentation for MultiLabelBinarizer</span></a><span class=\"sk-estimator-doc-link fitted\">i<span>Fitted</span></span></label><div class=\"sk-toggleable__content fitted\"><pre>MultiLabelBinarizer()</pre></div> </div></div></div></div>"
      ],
      "text/plain": [
       "MultiLabelBinarizer()"
      ]
     },
     "execution_count": 64,
     "metadata": {},
     "output_type": "execute_result"
    }
   ],
   "source": [
    "mlb = MultiLabelBinarizer()\n",
    "mlb.fit([mapping[file][\"categories\"] for file in mapping])"
   ]
  },
  {
   "cell_type": "code",
   "execution_count": 65,
   "metadata": {},
   "outputs": [
    {
     "data": {
      "text/plain": [
       "array(['adulting-101', 'big-read', 'commentary', 'gen-y-speaks',\n",
       "       'gen-z-speaks', 'singapore', 'voices', 'world'], dtype=object)"
      ]
     },
     "execution_count": 65,
     "metadata": {},
     "output_type": "execute_result"
    }
   ],
   "source": [
    "mlb.classes_"
   ]
  },
  {
   "cell_type": "code",
   "execution_count": 66,
   "metadata": {},
   "outputs": [
    {
     "data": {
      "text/plain": [
       "[0.9948845505714417,\n",
       " 0.9974443316459656,\n",
       " 0.997778058052063,\n",
       " 0.9957605600357056,\n",
       " 0.9958672523498535,\n",
       " 0.9966781735420227,\n",
       " 0.9972078204154968,\n",
       " 0.9966431856155396]"
      ]
     },
     "execution_count": 66,
     "metadata": {},
     "output_type": "execute_result"
    }
   ],
   "source": [
    "y_scores = []\n",
    "for i, (file, y_true, y_pred, scores) in enumerate(results):\n",
    "    y_pred_mapped = [reverse_labels[label] for label in y_pred]\n",
    "    y_score = sorted(list(zip(y_pred_mapped, scores)), key=lambda x: x[0])\n",
    "    y_score = [score for _, score in y_score]\n",
    "    y_scores.append(y_score)\n",
    "\n",
    "y_scores[0]"
   ]
  },
  {
   "cell_type": "code",
   "execution_count": 67,
   "metadata": {},
   "outputs": [
    {
     "data": {
      "text/plain": [
       "array([[1, 1, 1, 1, 1, 1, 1, 1],\n",
       "       [1, 1, 1, 1, 1, 1, 1, 1],\n",
       "       [1, 1, 1, 1, 1, 1, 1, 1],\n",
       "       [1, 1, 1, 1, 1, 1, 1, 1],\n",
       "       [1, 1, 1, 1, 1, 1, 1, 1],\n",
       "       [1, 1, 1, 1, 1, 1, 1, 1],\n",
       "       [1, 1, 1, 1, 1, 1, 1, 1],\n",
       "       [1, 1, 1, 1, 1, 1, 1, 1],\n",
       "       [1, 1, 1, 1, 1, 1, 1, 1],\n",
       "       [1, 1, 1, 1, 1, 1, 1, 1],\n",
       "       [1, 1, 1, 1, 1, 1, 1, 1],\n",
       "       [1, 1, 0, 0, 0, 1, 1, 0],\n",
       "       [1, 1, 1, 1, 1, 1, 1, 1],\n",
       "       [1, 1, 1, 1, 1, 1, 1, 1],\n",
       "       [1, 1, 1, 1, 1, 1, 1, 1],\n",
       "       [1, 1, 1, 1, 1, 1, 1, 1],\n",
       "       [1, 1, 1, 1, 1, 1, 1, 1],\n",
       "       [1, 1, 1, 1, 1, 1, 1, 1],\n",
       "       [1, 1, 1, 1, 1, 1, 1, 1],\n",
       "       [1, 1, 1, 1, 1, 1, 1, 1],\n",
       "       [1, 1, 1, 1, 1, 1, 1, 1],\n",
       "       [1, 1, 1, 1, 1, 1, 1, 1],\n",
       "       [1, 1, 1, 1, 1, 1, 1, 1],\n",
       "       [1, 1, 1, 1, 1, 1, 1, 1],\n",
       "       [1, 1, 1, 1, 1, 1, 1, 1],\n",
       "       [1, 1, 1, 1, 1, 1, 1, 1],\n",
       "       [1, 1, 1, 1, 1, 1, 1, 1],\n",
       "       [1, 1, 1, 1, 0, 1, 1, 0],\n",
       "       [1, 1, 1, 1, 0, 1, 1, 0],\n",
       "       [1, 1, 1, 1, 1, 1, 1, 1],\n",
       "       [1, 0, 1, 0, 0, 0, 0, 0],\n",
       "       [1, 1, 1, 1, 1, 1, 1, 1],\n",
       "       [1, 1, 1, 1, 1, 1, 1, 1],\n",
       "       [1, 1, 1, 1, 1, 1, 1, 1],\n",
       "       [1, 1, 1, 1, 1, 1, 1, 1],\n",
       "       [1, 1, 1, 1, 1, 1, 1, 1],\n",
       "       [1, 0, 0, 1, 0, 1, 1, 0],\n",
       "       [1, 1, 1, 1, 1, 1, 1, 1],\n",
       "       [1, 1, 1, 1, 1, 1, 1, 1],\n",
       "       [1, 1, 1, 1, 1, 1, 1, 1],\n",
       "       [1, 1, 1, 1, 1, 1, 1, 1],\n",
       "       [1, 1, 1, 1, 1, 1, 1, 1],\n",
       "       [1, 1, 1, 1, 1, 1, 1, 1],\n",
       "       [1, 0, 0, 0, 0, 0, 0, 0],\n",
       "       [1, 1, 1, 1, 1, 1, 1, 1],\n",
       "       [1, 1, 1, 1, 1, 1, 1, 1],\n",
       "       [1, 1, 1, 1, 1, 1, 1, 1],\n",
       "       [1, 1, 1, 1, 1, 1, 1, 1],\n",
       "       [1, 0, 1, 0, 0, 0, 0, 0],\n",
       "       [1, 1, 1, 1, 0, 0, 0, 0],\n",
       "       [1, 1, 1, 1, 1, 1, 1, 1],\n",
       "       [0, 1, 1, 0, 0, 0, 0, 0],\n",
       "       [0, 1, 0, 1, 0, 1, 1, 0],\n",
       "       [0, 1, 1, 1, 0, 1, 1, 0],\n",
       "       [0, 0, 1, 0, 0, 0, 0, 0],\n",
       "       [0, 0, 0, 1, 0, 0, 0, 0],\n",
       "       [0, 0, 0, 0, 0, 1, 1, 0]])"
      ]
     },
     "execution_count": 67,
     "metadata": {},
     "output_type": "execute_result"
    }
   ],
   "source": [
    "y_true = mlb.transform([properties[\"categories\"] for properties in mapping.values()])\n",
    "y_true"
   ]
  },
  {
   "cell_type": "code",
   "execution_count": 74,
   "metadata": {},
   "outputs": [
    {
     "data": {
      "text/plain": [
       "array([[0.99488455, 0.99744433, 0.99777806, 0.99576056, 0.99586725,\n",
       "        0.99667817, 0.99720782, 0.99664319],\n",
       "       [0.97387147, 0.97091997, 0.96090406, 0.957735  , 0.95742565,\n",
       "        0.97552443, 0.96059352, 0.93828017],\n",
       "       [0.22627474, 0.87190437, 0.80760914, 0.54452765, 0.51152682,\n",
       "        0.27524859, 0.83669001, 0.74927747],\n",
       "       [0.63530296, 0.50191396, 0.60294002, 0.56132275, 0.57596254,\n",
       "        0.54324049, 0.54456139, 0.45332053],\n",
       "       [0.20020068, 0.80608612, 0.62634921, 0.49116912, 0.41430649,\n",
       "        0.07633096, 0.88697147, 0.82320684],\n",
       "       [0.16623895, 0.96001887, 0.72953594, 0.4144958 , 0.309607  ,\n",
       "        0.99787211, 0.59777731, 0.68387413],\n",
       "       [0.98842859, 0.99370241, 0.99521601, 0.98103905, 0.98233175,\n",
       "        0.98947614, 0.99258089, 0.97959948],\n",
       "       [0.99224591, 0.99070704, 0.99133879, 0.98189002, 0.98167872,\n",
       "        0.98865271, 0.99063605, 0.98533589],\n",
       "       [0.72156578, 0.97581249, 0.90271699, 0.48369277, 0.39166099,\n",
       "        0.91368169, 0.9417786 , 0.89539111],\n",
       "       [0.07638264, 0.14882806, 0.56547135, 0.64491749, 0.23450105,\n",
       "        0.98605525, 0.87737983, 0.60126311],\n",
       "       [0.12838791, 0.91680712, 0.67016268, 0.29448065, 0.18025894,\n",
       "        0.12784992, 0.74716318, 0.6554805 ],\n",
       "       [0.96018225, 0.88091093, 0.91376448, 0.94350344, 0.94633645,\n",
       "        0.91724205, 0.89550447, 0.82580835],\n",
       "       [0.32411113, 0.45751473, 0.78710961, 0.39963034, 0.24875347,\n",
       "        0.03655522, 0.52776062, 0.57612896],\n",
       "       [0.95638663, 0.97074115, 0.96747947, 0.94771284, 0.94595617,\n",
       "        0.96081412, 0.96003318, 0.95031643],\n",
       "       [0.60882968, 0.82767457, 0.79097569, 0.64850527, 0.66483289,\n",
       "        0.69112241, 0.76386803, 0.65500015],\n",
       "       [0.79200661, 0.74328673, 0.87346148, 0.72045988, 0.73016667,\n",
       "        0.81494927, 0.70213246, 0.71875632],\n",
       "       [0.73561567, 0.86029476, 0.892887  , 0.74592334, 0.76289636,\n",
       "        0.79742318, 0.85652566, 0.80086732],\n",
       "       [0.97567344, 0.99476081, 0.99542046, 0.98995113, 0.99073404,\n",
       "        0.99119771, 0.99524689, 0.99568343],\n",
       "       [0.17348801, 0.86976564, 0.75508398, 0.72799724, 0.6252777 ,\n",
       "        0.03086519, 0.77987218, 0.80670083],\n",
       "       [0.97149229, 0.99252874, 0.99240065, 0.98695356, 0.98774511,\n",
       "        0.98527539, 0.99099165, 0.98668194],\n",
       "       [0.94410682, 0.94283199, 0.96020335, 0.95319939, 0.95397317,\n",
       "        0.93183041, 0.95987153, 0.91297168],\n",
       "       [0.98208517, 0.98450595, 0.98685241, 0.96847057, 0.96078211,\n",
       "        0.97473252, 0.9814204 , 0.97331667],\n",
       "       [0.18860932, 0.98030716, 0.85483038, 0.85576338, 0.48696074,\n",
       "        0.32822877, 0.98094064, 0.93631625],\n",
       "       [0.98508948, 0.98729521, 0.9856084 , 0.98364943, 0.98187524,\n",
       "        0.98418516, 0.97962451, 0.97696108],\n",
       "       [0.96824437, 0.97679687, 0.97128129, 0.96283096, 0.96501225,\n",
       "        0.97477472, 0.95730126, 0.9502207 ],\n",
       "       [0.94800621, 0.96693897, 0.97928214, 0.92759991, 0.91737175,\n",
       "        0.95823783, 0.98756164, 0.93059272],\n",
       "       [0.17225869, 0.9829365 , 0.97538841, 0.91865462, 0.77850002,\n",
       "        0.32948974, 0.97920704, 0.97064298],\n",
       "       [0.92204809, 0.92623448, 0.93661809, 0.92611849, 0.92163998,\n",
       "        0.92761952, 0.92803621, 0.88335478],\n",
       "       [0.132237  , 0.83922189, 0.38162309, 0.17164059, 0.20677514,\n",
       "        0.31930077, 0.53510314, 0.75530827],\n",
       "       [0.07909981, 0.70584446, 0.57637948, 0.45069557, 0.1691924 ,\n",
       "        0.08980712, 0.32603455, 0.26182324],\n",
       "       [0.95930421, 0.97270346, 0.97343677, 0.98041797, 0.97605515,\n",
       "        0.97195852, 0.96821576, 0.93484759],\n",
       "       [0.98792696, 0.99641103, 0.99461138, 0.9807477 , 0.97848606,\n",
       "        0.99059194, 0.98590887, 0.98125011],\n",
       "       [0.9299252 , 0.9655906 , 0.94807523, 0.94400173, 0.9257282 ,\n",
       "        0.95831549, 0.95399123, 0.93553424],\n",
       "       [0.95297486, 0.99424803, 0.97433966, 0.95301962, 0.94782329,\n",
       "        0.95589226, 0.94942009, 0.95652062],\n",
       "       [0.00412407, 0.86861199, 0.40878245, 0.28053424, 0.12517145,\n",
       "        0.03342329, 0.22274224, 0.53428751],\n",
       "       [0.96156967, 0.96370697, 0.97152537, 0.93580925, 0.93906206,\n",
       "        0.93638086, 0.96825176, 0.9605372 ],\n",
       "       [0.1562686 , 0.78460556, 0.63731462, 0.48150179, 0.55100316,\n",
       "        0.83678883, 0.65926027, 0.67516595],\n",
       "       [0.01436453, 0.4180502 , 0.45765761, 0.39822608, 0.16527241,\n",
       "        0.0155947 , 0.13329029, 0.13975133],\n",
       "       [0.93787581, 0.99631399, 0.99391466, 0.99393946, 0.99330044,\n",
       "        0.99682003, 0.9933697 , 0.99054545],\n",
       "       [0.632056  , 0.93625164, 0.628555  , 0.65169007, 0.3341012 ,\n",
       "        0.98627073, 0.91024685, 0.44820395],\n",
       "       [0.97302008, 0.99242538, 0.99495471, 0.98263872, 0.97927225,\n",
       "        0.98259002, 0.99270338, 0.98988032],\n",
       "       [0.84986413, 0.90507376, 0.86968035, 0.85900921, 0.85261947,\n",
       "        0.85625982, 0.86570132, 0.82076979],\n",
       "       [0.91262668, 0.8983621 , 0.91874784, 0.9170506 , 0.9136759 ,\n",
       "        0.90800053, 0.92820591, 0.77707475],\n",
       "       [0.95099998, 0.96277016, 0.96114963, 0.95702899, 0.95794266,\n",
       "        0.9516027 , 0.95726717, 0.94451976],\n",
       "       [0.00633023, 0.75125879, 0.46663889, 0.24626526, 0.0427944 ,\n",
       "        0.02940805, 0.01395395, 0.60063189],\n",
       "       [0.19496876, 0.24814817, 0.2454806 , 0.21792012, 0.21306965,\n",
       "        0.23642643, 0.17830339, 0.12850362],\n",
       "       [0.96450186, 0.97582644, 0.97283047, 0.97128308, 0.96994764,\n",
       "        0.96118826, 0.95900071, 0.94975322],\n",
       "       [0.18159232, 0.82242668, 0.8597309 , 0.33846968, 0.28784981,\n",
       "        0.93113911, 0.49841958, 0.32797211],\n",
       "       [0.21742357, 0.89266902, 0.7005561 , 0.70260781, 0.31174439,\n",
       "        0.95693189, 0.26119789, 0.587699  ],\n",
       "       [0.42333075, 0.91845047, 0.57210988, 0.57148069, 0.44705629,\n",
       "        0.99927789, 0.681885  , 0.76507396],\n",
       "       [0.60951066, 0.98675811, 0.87002778, 0.67996132, 0.36629647,\n",
       "        0.97763193, 0.98708302, 0.78085023],\n",
       "       [0.97762764, 0.98355174, 0.98678643, 0.97321463, 0.97721708,\n",
       "        0.98032856, 0.98046601, 0.97465599],\n",
       "       [0.20481025, 0.99191368, 0.77144641, 0.80282187, 0.27281949,\n",
       "        0.01360666, 0.83489645, 0.88592017],\n",
       "       [0.98791385, 0.99574077, 0.99584848, 0.9906739 , 0.99020374,\n",
       "        0.99391192, 0.99559903, 0.99411356],\n",
       "       [0.70302761, 0.88184333, 0.90830165, 0.77359796, 0.70225221,\n",
       "        0.78859401, 0.89772093, 0.61414164],\n",
       "       [0.95864689, 0.99951965, 0.99422604, 0.94046712, 0.88401878,\n",
       "        0.99987876, 0.99717748, 0.97222459],\n",
       "       [0.12234784, 0.96497154, 0.4699184 , 0.44305044, 0.23332542,\n",
       "        0.99759424, 0.52261144, 0.61045158]])"
      ]
     },
     "execution_count": 74,
     "metadata": {},
     "output_type": "execute_result"
    }
   ],
   "source": [
    "y_scores = np.row_stack([np.array(score) for score in y_scores])\n",
    "y_scores"
   ]
  },
  {
   "cell_type": "code",
   "execution_count": 75,
   "metadata": {},
   "outputs": [
    {
     "data": {
      "text/plain": [
       "((57, 8), (57, 8))"
      ]
     },
     "execution_count": 75,
     "metadata": {},
     "output_type": "execute_result"
    }
   ],
   "source": [
    "y_true.shape, y_scores.shape"
   ]
  },
  {
   "cell_type": "code",
   "execution_count": 77,
   "metadata": {},
   "outputs": [
    {
     "data": {
      "text/plain": [
       "(2, 2)"
      ]
     },
     "execution_count": 77,
     "metadata": {},
     "output_type": "execute_result"
    }
   ],
   "source": [
    "y_true.ndim, y_scores.ndim"
   ]
  },
  {
   "cell_type": "code",
   "execution_count": 83,
   "metadata": {},
   "outputs": [
    {
     "name": "stdout",
     "output_type": "stream",
     "text": [
      "coverage error: 7.56140350877193\n",
      "average precision: 0.908004037872459\n",
      "ranking loss: 0.10734126984126985\n"
     ]
    }
   ],
   "source": [
    "cov_error = coverage_error(y_true, y_scores)\n",
    "ap = label_ranking_average_precision_score(y_true, y_scores)\n",
    "rank_loss = label_ranking_loss(y_true, y_scores)\n",
    "\n",
    "print(f\"coverage error: {cov_error}\", f\"average precision: {ap}\", f\"ranking loss: {rank_loss}\", sep=\"\\n\")"
   ]
  },
  {
   "cell_type": "code",
   "execution_count": 86,
   "metadata": {},
   "outputs": [
    {
     "data": {
      "text/plain": [
       "0.6929824561403509"
      ]
     },
     "execution_count": 86,
     "metadata": {},
     "output_type": "execute_result"
    }
   ],
   "source": [
    "((y_scores > 0.5) == y_true).mean()"
   ]
  },
  {
   "cell_type": "code",
   "execution_count": null,
   "metadata": {},
   "outputs": [],
   "source": []
  }
 ],
 "metadata": {
  "kernelspec": {
   "display_name": "AAI3003_Project-iSI0Dnoj",
   "language": "python",
   "name": "python3"
  },
  "language_info": {
   "codemirror_mode": {
    "name": "ipython",
    "version": 3
   },
   "file_extension": ".py",
   "mimetype": "text/x-python",
   "name": "python",
   "nbconvert_exporter": "python",
   "pygments_lexer": "ipython3",
   "version": "3.12.1"
  }
 },
 "nbformat": 4,
 "nbformat_minor": 2
}
